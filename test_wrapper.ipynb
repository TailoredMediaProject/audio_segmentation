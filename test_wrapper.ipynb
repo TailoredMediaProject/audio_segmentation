{
 "cells": [
  {
   "cell_type": "code",
   "execution_count": null,
   "metadata": {},
   "outputs": [],
   "source": [
    "mediafiles = ['11-00633_K01.mp3','6-02190_b_K01.mp3','6-27162_a_k01.mp3','e09-00036_K01.mp3','6-62075_a_k01.mp3','e13-06285_K01.mp3']\n",
    "mediapath='/inaSpeechSegmenter/media/'"
   ]
  },
  {
   "cell_type": "code",
   "execution_count": null,
   "metadata": {},
   "outputs": [],
   "source": [
    "import os\n",
    "from segwrapper import segwrapper"
   ]
  },
  {
   "cell_type": "code",
   "execution_count": null,
   "metadata": {},
   "outputs": [],
   "source": [
    "# run analysis and plotting for entire set\n",
    "for media in mediafiles: segwrapper.segment_plot(os.path.join(mediapath,media),'/results')"
   ]
  }
 ],
 "metadata": {
  "kernelspec": {
   "display_name": "Python 3",
   "language": "python",
   "name": "python3"
  },
  "language_info": {
   "codemirror_mode": {
    "name": "ipython",
    "version": 3
   },
   "file_extension": ".py",
   "mimetype": "text/x-python",
   "name": "python",
   "nbconvert_exporter": "python",
   "pygments_lexer": "ipython3",
   "version": "3.8.10"
  }
 },
 "nbformat": 4,
 "nbformat_minor": 2
}
